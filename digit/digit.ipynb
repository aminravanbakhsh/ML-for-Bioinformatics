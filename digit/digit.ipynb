{
 "cells": [
  {
   "cell_type": "markdown",
   "metadata": {},
   "source": [
    "# Import"
   ]
  },
  {
   "cell_type": "code",
   "execution_count": 3,
   "metadata": {},
   "outputs": [
    {
     "name": "stderr",
     "output_type": "stream",
     "text": [
      "/home/amin/.local/lib/python3.10/site-packages/tqdm/auto.py:21: TqdmWarning: IProgress not found. Please update jupyter and ipywidgets. See https://ipywidgets.readthedocs.io/en/stable/user_install.html\n",
      "  from .autonotebook import tqdm as notebook_tqdm\n"
     ]
    }
   ],
   "source": [
    "import torch\n",
    "import numpy as np\n",
    "import torch.nn as nn\n",
    "import torch.nn.functional as F\n",
    "import torch.optim as optim\n",
    "from torchvision import datasets, transforms\n",
    "import matplotlib.pyplot as plt\n",
    "import pdb\n",
    "from tqdm.auto import tqdm"
   ]
  },
  {
   "cell_type": "code",
   "execution_count": 4,
   "metadata": {},
   "outputs": [
    {
     "data": {
      "text/plain": [
       "device(type='cpu')"
      ]
     },
     "execution_count": 4,
     "metadata": {},
     "output_type": "execute_result"
    }
   ],
   "source": [
    "device = torch.device(\"cuda\" if torch.cuda.is_available() else \"cpu\")\n",
    "device = torch.device('cpu')\n",
    "device"
   ]
  },
  {
   "cell_type": "markdown",
   "metadata": {},
   "source": [
    "# Auxiliary Modules"
   ]
  },
  {
   "cell_type": "code",
   "execution_count": 5,
   "metadata": {},
   "outputs": [],
   "source": [
    "class Reshape(nn.Module):\n",
    "  \"\"\"\n",
    "  This module reshapes its input to `new_shape`\n",
    "  \"\"\"\n",
    "  def __init__(self, new_shape):\n",
    "    super().__init__()\n",
    "    self.new_shape = new_shape\n",
    "\n",
    "  def forward(self, x):\n",
    "    return x.view(-1, *self.new_shape)\n",
    "\n",
    "class NoiseGenerator(nn.Module):\n",
    "  \"\"\"\n",
    "  This module generates `n` noises with `z_dim` dim from Normal distribution.\n",
    "  \"\"\"\n",
    "  def __init__(self, z_dim):\n",
    "    super().__init__()\n",
    "    self.z_dim = z_dim\n",
    "\n",
    "  def forward(self, n):\n",
    "    noise = torch.randn(n, *self.z_dim).to(device)\n",
    "    return noise"
   ]
  },
  {
   "cell_type": "markdown",
   "metadata": {},
   "source": [
    "# Helper Functions"
   ]
  },
  {
   "cell_type": "code",
   "execution_count": 6,
   "metadata": {},
   "outputs": [],
   "source": [
    "def vector_linspace(start, end, steps):\n",
    "  \"\"\"\n",
    "  Vector version of torch linspace\n",
    "  \"\"\"\n",
    "  result = []\n",
    "  for dim in range(start.shape[0]):\n",
    "    result.append(torch.linspace(start[dim], end[dim], steps))\n",
    "  result = torch.stack(result, dim=1).to(device)\n",
    "  return result\n",
    "  \n",
    "def mnist_show(image_batch, rows=1):\n",
    "  \"\"\"\n",
    "  This function gets multiple MNIST images and plots them in the given number of rows.\n",
    "  \"\"\"\n",
    "  image_batch = image_batch.detach().cpu()\n",
    "  image_batch = image_batch.view(-1, 28, 28)\n",
    "  image_batch = image_batch.numpy()\n",
    "\n",
    "  cols = np.ceil(image_batch.shape[0] / rows).astype(int)\n",
    "  # plt.rcParams['figure.figsize'] = (cols, rows)\n",
    "  plt.figure(figsize=(1.3*cols, 1.3*rows))\n",
    "\n",
    "  for i in range(image_batch.shape[0]):\n",
    "      plt.subplot(rows, cols, i + 1)\n",
    "      plt.imshow(image_batch[i], cmap=\"gray\", vmin=0, vmax=1)\n",
    "      plt.axis('off')\n",
    "  plt.show()\n",
    "\n",
    "def img_show(data):\n",
    "    plt.figure(figsize=(3,3))\n",
    "    shape = data.shape\n",
    "    z = data.reshape(shape[1], shape[2])\n",
    "    plt.imshow(z)\n",
    "    plt.show()\n",
    "\n",
    "def mnist_visulization_helper_fn(trainer):\n",
    "  \"\"\"\n",
    "  Generates fake samples and plots them for you.\n",
    "  \"\"\"\n",
    "  _, fake_samples = trainer.generate_samples(30)\n",
    "  mnist_show(fake_samples, 3)\n",
    "\n",
    "def show_interpolations(trainer, n_rows, n_cols):\n",
    "    \"\"\"\n",
    "    Shows image interpolation (grid of [`n_rows`, `n_cols`]) in input noise space.\n",
    "    \"\"\"\n",
    "    anchor_noises = trainer.noise_generator(4)\n",
    "    left_column = vector_linspace(anchor_noises[0], anchor_noises[1], n_rows)\n",
    "    right_column = vector_linspace(anchor_noises[2], anchor_noises[3], n_rows)\n",
    "    rows = []\n",
    "    for i in range(n_rows):\n",
    "      rows.append(vector_linspace(left_column[i], right_column[i], n_cols))\n",
    "    noises = torch.stack(rows, dim=0).view(n_rows * n_cols, -1)\n",
    "    with torch.no_grad():\n",
    "      fake_imgs = trainer.generator(noises)\n",
    "    mnist_show(fake_imgs, n_rows)"
   ]
  },
  {
   "cell_type": "markdown",
   "metadata": {},
   "source": [
    "# Importing Dataset"
   ]
  },
  {
   "cell_type": "code",
   "execution_count": 7,
   "metadata": {},
   "outputs": [],
   "source": [
    "# np.random.seed()\n",
    "# torch.manual_seed()\n",
    "batch_size = 256 \n",
    "transform = transforms.Compose([transforms.ToTensor(), transforms.Normalize(mean=(0.5,), std=(0.5,))])\n",
    "\n",
    "train_dataset = datasets.MNIST(root='./mnist_data/', train=True, transform=transform, download=True)\n",
    "train_loader = torch.utils.data.DataLoader(dataset=train_dataset, batch_size=batch_size, shuffle=True)\n",
    "\n",
    "test_dataset = datasets.MNIST(root='./mnist_data/', train=False, transform=transform, download=True)\n",
    "test_loader = torch.utils.data.DataLoader(dataset=test_dataset, batch_size=batch_size, shuffle=True)"
   ]
  },
  {
   "cell_type": "code",
   "execution_count": 8,
   "metadata": {},
   "outputs": [
    {
     "data": {
      "image/png": "[encoded data removed]",
      "text/plain": [
       "<Figure size 1300x390 with 30 Axes>"
      ]
     },
     "metadata": {},
     "output_type": "display_data"
    }
   ],
   "source": [
    "temp = torch.stack([train_dataset[i][0] for i in range(30)], dim=0)\n",
    "mnist_show(temp, 3)"
   ]
  },
  {
   "cell_type": "markdown",
   "metadata": {},
   "source": [
    "# Models"
   ]
  },
  {
   "cell_type": "code",
   "execution_count": 9,
   "metadata": {},
   "outputs": [],
   "source": [
    "def weights_init(m):\n",
    "    classname = m.__class__.__name__\n",
    "    if classname.find('Linear') != -1:\n",
    "        nn.init.normal_(m.weight.data, 0.0, 0.02)\n",
    "        nn.init.constant_(m.bias.data, 0)"
   ]
  },
  {
   "cell_type": "code",
   "execution_count": 10,
   "metadata": {},
   "outputs": [],
   "source": [
    "class SimpleGenerator(nn.Module):\n",
    "    def __init__(self, latent_dim, hidden_size = 256):\n",
    "        self.latent_dim = latent_dim\n",
    "        self.hidden_size = hidden_size\n",
    "\n",
    "        super(SimpleGenerator, self).__init__()\n",
    "        self.main = nn.Sequential(\n",
    "            nn.Linear(latent_dim, hidden_size),\n",
    "            nn.LeakyReLU(0.2, inplace=True),\n",
    "            nn.Linear(hidden_size, hidden_size*2),\n",
    "            nn.LeakyReLU(0.2, inplace=True),\n",
    "            nn.Linear(hidden_size*2, hidden_size*4),\n",
    "            nn.LeakyReLU(0.2, inplace=True),\n",
    "            nn.Linear(hidden_size*4, 28*28),\n",
    "            nn.Tanh()\n",
    "        )\n",
    "\n",
    "    def forward(self, x):\n",
    "        return self.main(x).view(-1, 1, 28, 28)\n",
    "    \n",
    "    def generate_noise(self, batch_size):\n",
    "        return torch.randn(batch_size, self.latent_dim)"
   ]
  },
  {
   "cell_type": "code",
   "execution_count": 11,
   "metadata": {},
   "outputs": [],
   "source": [
    "class GeneratorOne(nn.Module):\n",
    "    def __init__(self, latent_dim, hidden_size):\n",
    "        super(GeneratorOne, self).__init__()\n",
    "        self.latent_dim = latent_dim\n",
    "        self.hidden_size = hidden_size\n",
    "        self.image_channel = 1\n",
    "\n",
    "        self.main = nn.Sequential(\n",
    "            # input layer\n",
    "            nn.ConvTranspose2d(self.latent_dim, self.hidden_size * 8, 4, 1, 0, bias=False),\n",
    "            nn.BatchNorm2d(self.hidden_size * 8),\n",
    "            nn.ReLU(True),\n",
    "            # 1st hidden layer\n",
    "            nn.ConvTranspose2d(self.hidden_size * 8, self.hidden_size * 4, 4, 2, 1, bias=False),\n",
    "            nn.BatchNorm2d(self.hidden_size * 4),\n",
    "            nn.ReLU(True),\n",
    "            # 2nd hidden layer\n",
    "            nn.ConvTranspose2d(self.hidden_size * 4, self.hidden_size * 2, 4, 2, 1, bias=False),\n",
    "            nn.BatchNorm2d(self.hidden_size * 2),\n",
    "            nn.ReLU(True),\n",
    "            # 3rd hidden layer\n",
    "            # nn.ConvTranspose2d(self.hidden_size * 2, self.hidden_size, 4, 2, 1, bias=False),\n",
    "            # nn.BatchNorm2d(self.hidden_size),\n",
    "            # nn.ReLU(True),\n",
    "            # output layer\n",
    "            nn.ConvTranspose2d(self.hidden_size*2, self.image_channel, 4, 2, 3, bias=False),\n",
    "            nn.Tanh()\n",
    "        )\n",
    "\n",
    "    def forward(self, input):\n",
    "        return self.main(input)\n",
    "    def generate_noise(self, batch_size):\n",
    "        return torch.randn(batch_size, self.latent_dim, 1, 1)"
   ]
  },
  {
   "cell_type": "code",
   "execution_count": 12,
   "metadata": {},
   "outputs": [],
   "source": [
    "class Generator(nn.Module):\n",
    "    def __init__(self, latent_dim, hidden_size):\n",
    "        super(Generator, self).__init__()\n",
    "        self.latent_dim = latent_dim\n",
    "        self.hidden_size = hidden_size\n",
    "        self.image_channel = 1\n",
    "        # self.kernel_size = 2\n",
    "        self.kernel_size = 4\n",
    "        self.stride = 2\n",
    "        self.padding = int(self.kernel_size/2 - 1)\n",
    "\n",
    "        self.main = nn.Sequential(\n",
    "            # input layer\n",
    "            nn.ConvTranspose2d(in_channels=self.latent_dim, out_channels = 8 * self.hidden_size, kernel_size=self.kernel_size, stride=self.stride, padding=self.padding),\n",
    "            nn.BatchNorm2d(8*self.hidden_size),\n",
    "            nn.Dropout2d(p=0.2),\n",
    "            nn.LeakyReLU(0.2),\n",
    "\n",
    "            # # 1st hidden layer\n",
    "            nn.ConvTranspose2d(8 * self.hidden_size, 4 * self.hidden_size, kernel_size=self.kernel_size, stride=self.stride, padding=self.padding),\n",
    "            nn.BatchNorm2d(4 * self.hidden_size),\n",
    "            nn.Dropout2d(p=0.2),\n",
    "            nn.LeakyReLU(0.2),\n",
    "            \n",
    "            # 2nd hidden layer\n",
    "            nn.ConvTranspose2d(4 * self.hidden_size, 2 * self.hidden_size, kernel_size=self.kernel_size, stride=self.stride, padding=self.padding),\n",
    "            nn.BatchNorm2d(2 * self.hidden_size),\n",
    "            nn.Dropout2d(p=0.2),\n",
    "            nn.LeakyReLU(0.2),\n",
    "            \n",
    "            # 3rd hidden layer\n",
    "            nn.ConvTranspose2d(2 * self.hidden_size, self.hidden_size, kernel_size=self.kernel_size, stride=self.stride, padding=1),\n",
    "            nn.BatchNorm2d(self.hidden_size),\n",
    "            nn.Dropout2d(p=0.2),\n",
    "            nn.LeakyReLU(0.2),\n",
    "            \n",
    "            # output layer\n",
    "            nn.ConvTranspose2d(self.hidden_size, self.image_channel, kernel_size=self.kernel_size, stride=self.stride, padding=self.padding),\n",
    "            nn.Tanh()\n",
    "        )\n",
    "\n",
    "    def forward(self, input):\n",
    "        return self.main(input)\n",
    "    \n",
    "    def generate_noise(self, batch_size):\n",
    "        return torch.randn(batch_size, self.latent_dim, 1, 1)"
   ]
  },
  {
   "cell_type": "code",
   "execution_count": 13,
   "metadata": {},
   "outputs": [],
   "source": [
    "g = Generator(100, 128)"
   ]
  },
  {
   "cell_type": "code",
   "execution_count": 74,
   "metadata": {},
   "outputs": [],
   "source": [
    "class Discriminator(nn.Module):\n",
    "    def __init__(self):\n",
    "        super(Discriminator, self).__init__()\n",
    "        self.main = nn.Sequential(\n",
    "            nn.Linear(28*28, 1024),\n",
    "            nn.LeakyReLU(0.2, inplace=True),\n",
    "            nn.Linear(1024, 512),\n",
    "            nn.LeakyReLU(0.2, inplace=True),\n",
    "            nn.Linear(512, 256),\n",
    "            nn.LeakyReLU(0.2, inplace=True),\n",
    "            nn.Linear(256, 1),\n",
    "            nn.Sigmoid()\n",
    "        )\n",
    "\n",
    "    def forward(self, x):\n",
    "        x = x.view(-1, 28*28)\n",
    "        return self.main(x)"
   ]
  },
  {
   "cell_type": "markdown",
   "metadata": {},
   "source": [
    "# Train"
   ]
  },
  {
   "cell_type": "code",
   "execution_count": 76,
   "metadata": {},
   "outputs": [
    {
     "ename": "KeyboardInterrupt",
     "evalue": "",
     "output_type": "error",
     "traceback": [
      "\u001b[0;31m---------------------------------------------------------------------------\u001b[0m",
      "\u001b[0;31mKeyboardInterrupt\u001b[0m                         Traceback (most recent call last)",
      "Cell \u001b[0;32mIn[76], line 61\u001b[0m\n\u001b[1;32m     58\u001b[0m     outputs \u001b[39m=\u001b[39m discriminator(fake_images)\n\u001b[1;32m     60\u001b[0m     g_loss \u001b[39m=\u001b[39m criterion(outputs, real_labels)\n\u001b[0;32m---> 61\u001b[0m     g_loss\u001b[39m.\u001b[39;49mbackward()\n\u001b[1;32m     62\u001b[0m     optimizer_g\u001b[39m.\u001b[39mstep()\n\u001b[1;32m     65\u001b[0m \u001b[39mif\u001b[39;00m (n\u001b[39m+\u001b[39m\u001b[39m1\u001b[39m) \u001b[39m%\u001b[39m \u001b[39m50\u001b[39m \u001b[39m==\u001b[39m \u001b[39m0\u001b[39m:\n",
      "File \u001b[0;32m~/.local/lib/python3.10/site-packages/torch/_tensor.py:487\u001b[0m, in \u001b[0;36mTensor.backward\u001b[0;34m(self, gradient, retain_graph, create_graph, inputs)\u001b[0m\n\u001b[1;32m    477\u001b[0m \u001b[39mif\u001b[39;00m has_torch_function_unary(\u001b[39mself\u001b[39m):\n\u001b[1;32m    478\u001b[0m     \u001b[39mreturn\u001b[39;00m handle_torch_function(\n\u001b[1;32m    479\u001b[0m         Tensor\u001b[39m.\u001b[39mbackward,\n\u001b[1;32m    480\u001b[0m         (\u001b[39mself\u001b[39m,),\n\u001b[0;32m   (...)\u001b[0m\n\u001b[1;32m    485\u001b[0m         inputs\u001b[39m=\u001b[39minputs,\n\u001b[1;32m    486\u001b[0m     )\n\u001b[0;32m--> 487\u001b[0m torch\u001b[39m.\u001b[39;49mautograd\u001b[39m.\u001b[39;49mbackward(\n\u001b[1;32m    488\u001b[0m     \u001b[39mself\u001b[39;49m, gradient, retain_graph, create_graph, inputs\u001b[39m=\u001b[39;49minputs\n\u001b[1;32m    489\u001b[0m )\n",
      "File \u001b[0;32m~/.local/lib/python3.10/site-packages/torch/autograd/__init__.py:200\u001b[0m, in \u001b[0;36mbackward\u001b[0;34m(tensors, grad_tensors, retain_graph, create_graph, grad_variables, inputs)\u001b[0m\n\u001b[1;32m    195\u001b[0m     retain_graph \u001b[39m=\u001b[39m create_graph\n\u001b[1;32m    197\u001b[0m \u001b[39m# The reason we repeat same the comment below is that\u001b[39;00m\n\u001b[1;32m    198\u001b[0m \u001b[39m# some Python versions print out the first line of a multi-line function\u001b[39;00m\n\u001b[1;32m    199\u001b[0m \u001b[39m# calls in the traceback and some print out the last line\u001b[39;00m\n\u001b[0;32m--> 200\u001b[0m Variable\u001b[39m.\u001b[39;49m_execution_engine\u001b[39m.\u001b[39;49mrun_backward(  \u001b[39m# Calls into the C++ engine to run the backward pass\u001b[39;49;00m\n\u001b[1;32m    201\u001b[0m     tensors, grad_tensors_, retain_graph, create_graph, inputs,\n\u001b[1;32m    202\u001b[0m     allow_unreachable\u001b[39m=\u001b[39;49m\u001b[39mTrue\u001b[39;49;00m, accumulate_grad\u001b[39m=\u001b[39;49m\u001b[39mTrue\u001b[39;49;00m)\n",
      "\u001b[0;31mKeyboardInterrupt\u001b[0m: "
     ]
    }
   ],
   "source": [
    "criterion = nn.BCELoss()\n",
    "\n",
    "latent_dim = 100\n",
    "# hidden_size = 20\n",
    "# generator = Generator(latent_dim, 20).to(device)\n",
    "\n",
    "# hidden_size = 256\n",
    "# generator = SimpleGenerator(latent_dim, hidden_size).to(device)\n",
    "\n",
    "generator = GeneratorOne(latent_dim, 256).to(device)\n",
    "\n",
    "discriminator = Discriminator().to(device)\n",
    "generator.apply(weights_init)\n",
    "discriminator.apply(weights_init)\n",
    "\n",
    "learning_rate = 0.001\n",
    "optimizer_g = optim.Adam(generator.parameters(), lr=learning_rate)\n",
    "optimizer_d = optim.Adam(discriminator.parameters(), lr=learning_rate)\n",
    "\n",
    "\n",
    "g_learning_times = 3\n",
    "d_leaning_times = 1\n",
    "\n",
    "num_epochs = 10\n",
    "for epoch in range(num_epochs):\n",
    "\n",
    "    for n, (images, labels) in enumerate(train_loader):\n",
    "        images = images.to(device)\n",
    "        current_batch_size = images.size(0)\n",
    "\n",
    "        # Train discriminator\n",
    "        for t in range(d_leaning_times):\n",
    "            optimizer_d.zero_grad()\n",
    "            \n",
    "            # Real images\n",
    "            real_outputs = discriminator(images)\n",
    "            real_labels = torch.ones(current_batch_size, 1).to(device)\n",
    "            real_loss = criterion(real_outputs, real_labels)\n",
    "\n",
    "            # Fake images\n",
    "            noise = generator.generate_noise(current_batch_size)\n",
    "            fake_images = generator(noise)\n",
    "            # pdb.set_trace()\n",
    "            fake_outputs = discriminator(fake_images.detach())\n",
    "            fake_labels = torch.zeros(current_batch_size, 1).to(device)\n",
    "            fake_loss = criterion(fake_outputs, fake_labels)\n",
    "\n",
    "            d_loss = real_loss + fake_loss\n",
    "            d_loss.backward()\n",
    "            optimizer_d.step()\n",
    "\n",
    "        # Train generator\n",
    "        for t in range(g_learning_times):\n",
    "            optimizer_g.zero_grad()\n",
    "            \n",
    "            noise = generator.generate_noise(current_batch_size)\n",
    "            fake_images = generator(noise)\n",
    "            outputs = discriminator(fake_images)\n",
    "            \n",
    "            g_loss = criterion(outputs, real_labels)\n",
    "            g_loss.backward()\n",
    "            optimizer_g.step()\n",
    "        \n",
    "    \n",
    "        if (n+1) % 50 == 0:\n",
    "            print(f'Epoch [{epoch+1}/{num_epochs}], Step [{n+1}/{len(train_loader)}], d_loss: {d_loss.item():.4f}, g_loss: {g_loss.item():.4f}, D(x): {real_outputs.mean().item():.2f}, D(G(z)): {fake_outputs.mean().item():.2f}')"
   ]
  },
  {
   "cell_type": "markdown",
   "metadata": {},
   "source": [
    "# Visualize"
   ]
  },
  {
   "cell_type": "code",
   "execution_count": 239,
   "metadata": {},
   "outputs": [
    {
     "data": {
      "image/png": "[encoded data removed]",
      "text/plain": [
       "<Figure size 1300x390 with 30 Axes>"
      ]
     },
     "metadata": {},
     "output_type": "display_data"
    }
   ],
   "source": [
    "noise = generator.generate_noise(30)\n",
    "fake_images = generator(noise)\n",
    "mnist_show(fake_images, 3)"
   ]
  }
 ],
 "metadata": {
  "kernelspec": {
   "display_name": "Python 3",
   "language": "python",
   "name": "python3"
  },
  "language_info": {
   "codemirror_mode": {
    "name": "ipython",
    "version": 3
   },
   "file_extension": ".py",
   "mimetype": "text/x-python",
   "name": "python",
   "nbconvert_exporter": "python",
   "pygments_lexer": "ipython3",
   "version": "3.10.6"
  },
  "orig_nbformat": 4
 },
 "nbformat": 4,
 "nbformat_minor": 2
}
